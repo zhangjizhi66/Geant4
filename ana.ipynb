{
 "cells": [
  {
   "cell_type": "code",
   "execution_count": 1,
   "metadata": {},
   "outputs": [
    {
     "name": "stdout",
     "output_type": "stream",
     "text": [
      "\u001b[?1034h"
     ]
    }
   ],
   "source": [
    "TFile* ipf = new TFile(\"build/geant4.root\");\n",
    "TTree* tree = (TTree*)ipf->Get(\"tree\");"
   ]
  },
  {
   "cell_type": "code",
   "execution_count": 3,
   "metadata": {},
   "outputs": [
    {
     "name": "stdout",
     "output_type": "stream",
     "text": [
      "************************\n",
      "*    Row   *   EventID *\n",
      "************************\n",
      "*        0 *        70 *\n",
      "*        1 *        71 *\n",
      "*        2 *        72 *\n",
      "*        3 *        73 *\n",
      "*        4 *        74 *\n",
      "*        5 *        75 *\n",
      "*        6 *        76 *\n",
      "*        7 *        77 *\n",
      "*        8 *        78 *\n",
      "*        9 *        79 *\n",
      "*       10 *        80 *\n",
      "*       11 *        81 *\n",
      "*       12 *        82 *\n",
      "*       13 *        83 *\n",
      "*       14 *        84 *\n",
      "*       15 *        85 *\n",
      "*       16 *        86 *\n",
      "*       17 *        87 *\n",
      "*       18 *        87 *\n",
      "*       19 *        87 *\n",
      "************************\n"
     ]
    }
   ],
   "source": [
    "tree->Scan(\"EventID\",\"\",\"\",20,0);"
   ]
  },
  {
   "cell_type": "code",
   "execution_count": null,
   "metadata": {},
   "outputs": [],
   "source": []
  }
 ],
 "metadata": {
  "kernelspec": {
   "display_name": "ROOT C++",
   "language": "c++",
   "name": "root"
  },
  "language_info": {
   "codemirror_mode": "text/x-c++src",
   "file_extension": ".C",
   "mimetype": " text/x-c++src",
   "name": "c++"
  }
 },
 "nbformat": 4,
 "nbformat_minor": 2
}
